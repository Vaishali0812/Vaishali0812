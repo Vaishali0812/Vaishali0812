{
 "cells": [
  {
   "cell_type": "code",
   "execution_count": 70,
   "id": "04daba82",
   "metadata": {},
   "outputs": [],
   "source": [
    "import pandas as pd"
   ]
  },
  {
   "cell_type": "code",
   "execution_count": 71,
   "id": "5929050c",
   "metadata": {},
   "outputs": [],
   "source": [
    "df = pd.read_csv(\"Mall_Customers.csv\")"
   ]
  },
  {
   "cell_type": "code",
   "execution_count": 72,
   "id": "4508269d",
   "metadata": {},
   "outputs": [
    {
     "data": {
      "text/html": [
       "<div>\n",
       "<style scoped>\n",
       "    .dataframe tbody tr th:only-of-type {\n",
       "        vertical-align: middle;\n",
       "    }\n",
       "\n",
       "    .dataframe tbody tr th {\n",
       "        vertical-align: top;\n",
       "    }\n",
       "\n",
       "    .dataframe thead th {\n",
       "        text-align: right;\n",
       "    }\n",
       "</style>\n",
       "<table border=\"1\" class=\"dataframe\">\n",
       "  <thead>\n",
       "    <tr style=\"text-align: right;\">\n",
       "      <th></th>\n",
       "      <th>CustomerID</th>\n",
       "      <th>Gender</th>\n",
       "      <th>Age</th>\n",
       "      <th>Annual Income (k$)</th>\n",
       "      <th>Spending Score (1-100)</th>\n",
       "    </tr>\n",
       "  </thead>\n",
       "  <tbody>\n",
       "    <tr>\n",
       "      <th>0</th>\n",
       "      <td>1</td>\n",
       "      <td>Male</td>\n",
       "      <td>19</td>\n",
       "      <td>15</td>\n",
       "      <td>39</td>\n",
       "    </tr>\n",
       "    <tr>\n",
       "      <th>1</th>\n",
       "      <td>2</td>\n",
       "      <td>Male</td>\n",
       "      <td>21</td>\n",
       "      <td>15</td>\n",
       "      <td>81</td>\n",
       "    </tr>\n",
       "    <tr>\n",
       "      <th>2</th>\n",
       "      <td>3</td>\n",
       "      <td>Female</td>\n",
       "      <td>20</td>\n",
       "      <td>16</td>\n",
       "      <td>6</td>\n",
       "    </tr>\n",
       "    <tr>\n",
       "      <th>3</th>\n",
       "      <td>4</td>\n",
       "      <td>Female</td>\n",
       "      <td>23</td>\n",
       "      <td>16</td>\n",
       "      <td>77</td>\n",
       "    </tr>\n",
       "    <tr>\n",
       "      <th>4</th>\n",
       "      <td>5</td>\n",
       "      <td>Female</td>\n",
       "      <td>31</td>\n",
       "      <td>17</td>\n",
       "      <td>40</td>\n",
       "    </tr>\n",
       "    <tr>\n",
       "      <th>...</th>\n",
       "      <td>...</td>\n",
       "      <td>...</td>\n",
       "      <td>...</td>\n",
       "      <td>...</td>\n",
       "      <td>...</td>\n",
       "    </tr>\n",
       "    <tr>\n",
       "      <th>195</th>\n",
       "      <td>196</td>\n",
       "      <td>Female</td>\n",
       "      <td>35</td>\n",
       "      <td>120</td>\n",
       "      <td>79</td>\n",
       "    </tr>\n",
       "    <tr>\n",
       "      <th>196</th>\n",
       "      <td>197</td>\n",
       "      <td>Female</td>\n",
       "      <td>45</td>\n",
       "      <td>126</td>\n",
       "      <td>28</td>\n",
       "    </tr>\n",
       "    <tr>\n",
       "      <th>197</th>\n",
       "      <td>198</td>\n",
       "      <td>Male</td>\n",
       "      <td>32</td>\n",
       "      <td>126</td>\n",
       "      <td>74</td>\n",
       "    </tr>\n",
       "    <tr>\n",
       "      <th>198</th>\n",
       "      <td>199</td>\n",
       "      <td>Male</td>\n",
       "      <td>32</td>\n",
       "      <td>137</td>\n",
       "      <td>18</td>\n",
       "    </tr>\n",
       "    <tr>\n",
       "      <th>199</th>\n",
       "      <td>200</td>\n",
       "      <td>Male</td>\n",
       "      <td>30</td>\n",
       "      <td>137</td>\n",
       "      <td>83</td>\n",
       "    </tr>\n",
       "  </tbody>\n",
       "</table>\n",
       "<p>200 rows × 5 columns</p>\n",
       "</div>"
      ],
      "text/plain": [
       "     CustomerID  Gender  Age  Annual Income (k$)  Spending Score (1-100)\n",
       "0             1    Male   19                  15                      39\n",
       "1             2    Male   21                  15                      81\n",
       "2             3  Female   20                  16                       6\n",
       "3             4  Female   23                  16                      77\n",
       "4             5  Female   31                  17                      40\n",
       "..          ...     ...  ...                 ...                     ...\n",
       "195         196  Female   35                 120                      79\n",
       "196         197  Female   45                 126                      28\n",
       "197         198    Male   32                 126                      74\n",
       "198         199    Male   32                 137                      18\n",
       "199         200    Male   30                 137                      83\n",
       "\n",
       "[200 rows x 5 columns]"
      ]
     },
     "execution_count": 72,
     "metadata": {},
     "output_type": "execute_result"
    }
   ],
   "source": [
    "df"
   ]
  },
  {
   "cell_type": "code",
   "execution_count": 73,
   "id": "f8dfdfde",
   "metadata": {},
   "outputs": [],
   "source": [
    "df['Gender']= df['Gender'].map({'Male':1 , 'Female': 0})"
   ]
  },
  {
   "cell_type": "code",
   "execution_count": 74,
   "id": "94030cd5",
   "metadata": {},
   "outputs": [],
   "source": [
    "df.columns = ['CustomerID', 'Gender', 'Age', 'Annual Income',\n",
    "       'Spending Score']"
   ]
  },
  {
   "cell_type": "code",
   "execution_count": 75,
   "id": "a242563a",
   "metadata": {},
   "outputs": [
    {
     "data": {
      "text/html": [
       "<div>\n",
       "<style scoped>\n",
       "    .dataframe tbody tr th:only-of-type {\n",
       "        vertical-align: middle;\n",
       "    }\n",
       "\n",
       "    .dataframe tbody tr th {\n",
       "        vertical-align: top;\n",
       "    }\n",
       "\n",
       "    .dataframe thead th {\n",
       "        text-align: right;\n",
       "    }\n",
       "</style>\n",
       "<table border=\"1\" class=\"dataframe\">\n",
       "  <thead>\n",
       "    <tr style=\"text-align: right;\">\n",
       "      <th></th>\n",
       "      <th>CustomerID</th>\n",
       "      <th>Gender</th>\n",
       "      <th>Age</th>\n",
       "      <th>Annual Income</th>\n",
       "      <th>Spending Score</th>\n",
       "    </tr>\n",
       "  </thead>\n",
       "  <tbody>\n",
       "    <tr>\n",
       "      <th>0</th>\n",
       "      <td>1</td>\n",
       "      <td>1</td>\n",
       "      <td>19</td>\n",
       "      <td>15</td>\n",
       "      <td>39</td>\n",
       "    </tr>\n",
       "    <tr>\n",
       "      <th>1</th>\n",
       "      <td>2</td>\n",
       "      <td>1</td>\n",
       "      <td>21</td>\n",
       "      <td>15</td>\n",
       "      <td>81</td>\n",
       "    </tr>\n",
       "    <tr>\n",
       "      <th>2</th>\n",
       "      <td>3</td>\n",
       "      <td>0</td>\n",
       "      <td>20</td>\n",
       "      <td>16</td>\n",
       "      <td>6</td>\n",
       "    </tr>\n",
       "    <tr>\n",
       "      <th>3</th>\n",
       "      <td>4</td>\n",
       "      <td>0</td>\n",
       "      <td>23</td>\n",
       "      <td>16</td>\n",
       "      <td>77</td>\n",
       "    </tr>\n",
       "    <tr>\n",
       "      <th>4</th>\n",
       "      <td>5</td>\n",
       "      <td>0</td>\n",
       "      <td>31</td>\n",
       "      <td>17</td>\n",
       "      <td>40</td>\n",
       "    </tr>\n",
       "    <tr>\n",
       "      <th>...</th>\n",
       "      <td>...</td>\n",
       "      <td>...</td>\n",
       "      <td>...</td>\n",
       "      <td>...</td>\n",
       "      <td>...</td>\n",
       "    </tr>\n",
       "    <tr>\n",
       "      <th>195</th>\n",
       "      <td>196</td>\n",
       "      <td>0</td>\n",
       "      <td>35</td>\n",
       "      <td>120</td>\n",
       "      <td>79</td>\n",
       "    </tr>\n",
       "    <tr>\n",
       "      <th>196</th>\n",
       "      <td>197</td>\n",
       "      <td>0</td>\n",
       "      <td>45</td>\n",
       "      <td>126</td>\n",
       "      <td>28</td>\n",
       "    </tr>\n",
       "    <tr>\n",
       "      <th>197</th>\n",
       "      <td>198</td>\n",
       "      <td>1</td>\n",
       "      <td>32</td>\n",
       "      <td>126</td>\n",
       "      <td>74</td>\n",
       "    </tr>\n",
       "    <tr>\n",
       "      <th>198</th>\n",
       "      <td>199</td>\n",
       "      <td>1</td>\n",
       "      <td>32</td>\n",
       "      <td>137</td>\n",
       "      <td>18</td>\n",
       "    </tr>\n",
       "    <tr>\n",
       "      <th>199</th>\n",
       "      <td>200</td>\n",
       "      <td>1</td>\n",
       "      <td>30</td>\n",
       "      <td>137</td>\n",
       "      <td>83</td>\n",
       "    </tr>\n",
       "  </tbody>\n",
       "</table>\n",
       "<p>200 rows × 5 columns</p>\n",
       "</div>"
      ],
      "text/plain": [
       "     CustomerID  Gender  Age  Annual Income  Spending Score\n",
       "0             1       1   19             15              39\n",
       "1             2       1   21             15              81\n",
       "2             3       0   20             16               6\n",
       "3             4       0   23             16              77\n",
       "4             5       0   31             17              40\n",
       "..          ...     ...  ...            ...             ...\n",
       "195         196       0   35            120              79\n",
       "196         197       0   45            126              28\n",
       "197         198       1   32            126              74\n",
       "198         199       1   32            137              18\n",
       "199         200       1   30            137              83\n",
       "\n",
       "[200 rows x 5 columns]"
      ]
     },
     "execution_count": 75,
     "metadata": {},
     "output_type": "execute_result"
    }
   ],
   "source": [
    "df"
   ]
  },
  {
   "cell_type": "code",
   "execution_count": 76,
   "id": "8fc4bfd7",
   "metadata": {},
   "outputs": [
    {
     "data": {
      "text/html": [
       "<div>\n",
       "<style scoped>\n",
       "    .dataframe tbody tr th:only-of-type {\n",
       "        vertical-align: middle;\n",
       "    }\n",
       "\n",
       "    .dataframe tbody tr th {\n",
       "        vertical-align: top;\n",
       "    }\n",
       "\n",
       "    .dataframe thead th {\n",
       "        text-align: right;\n",
       "    }\n",
       "</style>\n",
       "<table border=\"1\" class=\"dataframe\">\n",
       "  <thead>\n",
       "    <tr style=\"text-align: right;\">\n",
       "      <th></th>\n",
       "      <th>Gender</th>\n",
       "      <th>Age</th>\n",
       "      <th>Annual Income</th>\n",
       "      <th>Spending Score</th>\n",
       "    </tr>\n",
       "  </thead>\n",
       "  <tbody>\n",
       "    <tr>\n",
       "      <th>0</th>\n",
       "      <td>1</td>\n",
       "      <td>19</td>\n",
       "      <td>15</td>\n",
       "      <td>39</td>\n",
       "    </tr>\n",
       "    <tr>\n",
       "      <th>1</th>\n",
       "      <td>1</td>\n",
       "      <td>21</td>\n",
       "      <td>15</td>\n",
       "      <td>81</td>\n",
       "    </tr>\n",
       "    <tr>\n",
       "      <th>2</th>\n",
       "      <td>0</td>\n",
       "      <td>20</td>\n",
       "      <td>16</td>\n",
       "      <td>6</td>\n",
       "    </tr>\n",
       "    <tr>\n",
       "      <th>3</th>\n",
       "      <td>0</td>\n",
       "      <td>23</td>\n",
       "      <td>16</td>\n",
       "      <td>77</td>\n",
       "    </tr>\n",
       "    <tr>\n",
       "      <th>4</th>\n",
       "      <td>0</td>\n",
       "      <td>31</td>\n",
       "      <td>17</td>\n",
       "      <td>40</td>\n",
       "    </tr>\n",
       "    <tr>\n",
       "      <th>...</th>\n",
       "      <td>...</td>\n",
       "      <td>...</td>\n",
       "      <td>...</td>\n",
       "      <td>...</td>\n",
       "    </tr>\n",
       "    <tr>\n",
       "      <th>195</th>\n",
       "      <td>0</td>\n",
       "      <td>35</td>\n",
       "      <td>120</td>\n",
       "      <td>79</td>\n",
       "    </tr>\n",
       "    <tr>\n",
       "      <th>196</th>\n",
       "      <td>0</td>\n",
       "      <td>45</td>\n",
       "      <td>126</td>\n",
       "      <td>28</td>\n",
       "    </tr>\n",
       "    <tr>\n",
       "      <th>197</th>\n",
       "      <td>1</td>\n",
       "      <td>32</td>\n",
       "      <td>126</td>\n",
       "      <td>74</td>\n",
       "    </tr>\n",
       "    <tr>\n",
       "      <th>198</th>\n",
       "      <td>1</td>\n",
       "      <td>32</td>\n",
       "      <td>137</td>\n",
       "      <td>18</td>\n",
       "    </tr>\n",
       "    <tr>\n",
       "      <th>199</th>\n",
       "      <td>1</td>\n",
       "      <td>30</td>\n",
       "      <td>137</td>\n",
       "      <td>83</td>\n",
       "    </tr>\n",
       "  </tbody>\n",
       "</table>\n",
       "<p>200 rows × 4 columns</p>\n",
       "</div>"
      ],
      "text/plain": [
       "     Gender  Age  Annual Income  Spending Score\n",
       "0         1   19             15              39\n",
       "1         1   21             15              81\n",
       "2         0   20             16               6\n",
       "3         0   23             16              77\n",
       "4         0   31             17              40\n",
       "..      ...  ...            ...             ...\n",
       "195       0   35            120              79\n",
       "196       0   45            126              28\n",
       "197       1   32            126              74\n",
       "198       1   32            137              18\n",
       "199       1   30            137              83\n",
       "\n",
       "[200 rows x 4 columns]"
      ]
     },
     "execution_count": 76,
     "metadata": {},
     "output_type": "execute_result"
    }
   ],
   "source": [
    "df.drop('CustomerID',axis=1)"
   ]
  },
  {
   "cell_type": "code",
   "execution_count": 77,
   "id": "61638067",
   "metadata": {},
   "outputs": [],
   "source": [
    "import matplotlib.pyplot as plt"
   ]
  },
  {
   "cell_type": "code",
   "execution_count": 78,
   "id": "18db9d7d",
   "metadata": {},
   "outputs": [],
   "source": [
    "import seaborn as sns"
   ]
  },
  {
   "cell_type": "code",
   "execution_count": 79,
   "id": "ca0252b4",
   "metadata": {},
   "outputs": [
    {
     "data": {
      "image/png": "[encoded data removed]",
      "text/plain": [
       "<Figure size 432x288 with 1 Axes>"
      ]
     },
     "metadata": {
      "needs_background": "light"
     },
     "output_type": "display_data"
    }
   ],
   "source": [
    "x =df[\"Annual Income\"] \n",
    " \n",
    "y =df[\"Spending Score\"]\n",
    " \n",
    "plt.scatter(x, y, c =\"pink\")\n",
    "\n",
    "plt.show()"
   ]
  },
  {
   "cell_type": "code",
   "execution_count": 80,
   "id": "b49b15cf",
   "metadata": {},
   "outputs": [
    {
     "data": {
      "text/plain": [
       "CustomerID        int64\n",
       "Gender            int64\n",
       "Age               int64\n",
       "Annual Income     int64\n",
       "Spending Score    int64\n",
       "dtype: object"
      ]
     },
     "execution_count": 80,
     "metadata": {},
     "output_type": "execute_result"
    }
   ],
   "source": [
    "df.dtypes"
   ]
  },
  {
   "cell_type": "code",
   "execution_count": 81,
   "id": "69099c2a",
   "metadata": {},
   "outputs": [],
   "source": [
    "x=df"
   ]
  },
  {
   "cell_type": "code",
   "execution_count": 82,
   "id": "a1911639",
   "metadata": {},
   "outputs": [],
   "source": [
    "from sklearn.preprocessing import StandardScaler"
   ]
  },
  {
   "cell_type": "code",
   "execution_count": 83,
   "id": "ff147bef",
   "metadata": {},
   "outputs": [],
   "source": [
    "st_obj = StandardScaler()"
   ]
  },
  {
   "cell_type": "code",
   "execution_count": 84,
   "id": "b4494ddc",
   "metadata": {},
   "outputs": [],
   "source": [
    "x_scaled = st_obj.fit_transform(x)"
   ]
  },
  {
   "cell_type": "code",
   "execution_count": 85,
   "id": "fbce09e0",
   "metadata": {},
   "outputs": [
    {
     "data": {
      "text/plain": [
       "array([[-1.7234121 ,  1.12815215, -1.42456879, -1.73899919, -0.43480148],\n",
       "       [-1.70609137,  1.12815215, -1.28103541, -1.73899919,  1.19570407],\n",
       "       [-1.68877065, -0.88640526, -1.3528021 , -1.70082976, -1.71591298],\n",
       "       [-1.67144992, -0.88640526, -1.13750203, -1.70082976,  1.04041783],\n",
       "       [-1.6541292 , -0.88640526, -0.56336851, -1.66266033, -0.39597992],\n",
       "       [-1.63680847, -0.88640526, -1.20926872, -1.66266033,  1.00159627],\n",
       "       [-1.61948775, -0.88640526, -0.27630176, -1.62449091, -1.71591298],\n",
       "       [-1.60216702, -0.88640526, -1.13750203, -1.62449091,  1.70038436],\n",
       "       [-1.5848463 ,  1.12815215,  1.80493225, -1.58632148, -1.83237767],\n",
       "       [-1.56752558, -0.88640526, -0.6351352 , -1.58632148,  0.84631002],\n",
       "       [-1.55020485,  1.12815215,  2.02023231, -1.58632148, -1.4053405 ],\n",
       "       [-1.53288413, -0.88640526, -0.27630176, -1.58632148,  1.89449216],\n",
       "       [-1.5155634 , -0.88640526,  1.37433211, -1.54815205, -1.36651894],\n",
       "       [-1.49824268, -0.88640526, -1.06573534, -1.54815205,  1.04041783],\n",
       "       [-1.48092195,  1.12815215, -0.13276838, -1.54815205, -1.44416206],\n",
       "       [-1.46360123,  1.12815215, -1.20926872, -1.54815205,  1.11806095],\n",
       "       [-1.4462805 , -0.88640526, -0.27630176, -1.50998262, -0.59008772],\n",
       "       [-1.42895978,  1.12815215, -1.3528021 , -1.50998262,  0.61338066],\n",
       "       [-1.41163905,  1.12815215,  0.94373197, -1.43364376, -0.82301709],\n",
       "       [-1.39431833, -0.88640526, -0.27630176, -1.43364376,  1.8556706 ],\n",
       "       [-1.3769976 ,  1.12815215, -0.27630176, -1.39547433, -0.59008772],\n",
       "       [-1.35967688,  1.12815215, -0.99396865, -1.39547433,  0.88513158],\n",
       "       [-1.34235616, -0.88640526,  0.51313183, -1.3573049 , -1.75473454],\n",
       "       [-1.32503543,  1.12815215, -0.56336851, -1.3573049 ,  0.88513158],\n",
       "       [-1.30771471, -0.88640526,  1.08726535, -1.24279661, -1.4053405 ],\n",
       "       [-1.29039398,  1.12815215, -0.70690189, -1.24279661,  1.23452563],\n",
       "       [-1.27307326, -0.88640526,  0.44136514, -1.24279661, -0.7065524 ],\n",
       "       [-1.25575253,  1.12815215, -0.27630176, -1.24279661,  0.41927286],\n",
       "       [-1.23843181, -0.88640526,  0.08253169, -1.20462718, -0.74537397],\n",
       "       [-1.22111108, -0.88640526, -1.13750203, -1.20462718,  1.42863343],\n",
       "       [-1.20379036,  1.12815215,  1.51786549, -1.16645776, -1.7935561 ],\n",
       "       [-1.18646963, -0.88640526, -1.28103541, -1.16645776,  0.88513158],\n",
       "       [-1.16914891,  1.12815215,  1.01549866, -1.05194947, -1.7935561 ],\n",
       "       [-1.15182818,  1.12815215, -1.49633548, -1.05194947,  1.62274124],\n",
       "       [-1.13450746, -0.88640526,  0.7284319 , -1.05194947, -1.4053405 ],\n",
       "       [-1.11718674, -0.88640526, -1.28103541, -1.05194947,  1.19570407],\n",
       "       [-1.09986601, -0.88640526,  0.22606507, -1.01378004, -1.28887582],\n",
       "       [-1.08254529, -0.88640526, -0.6351352 , -1.01378004,  0.88513158],\n",
       "       [-1.06522456, -0.88640526, -0.20453507, -0.89927175, -0.93948177],\n",
       "       [-1.04790384, -0.88640526, -1.3528021 , -0.89927175,  0.96277471],\n",
       "       [-1.03058311, -0.88640526,  1.87669894, -0.86110232, -0.59008772],\n",
       "       [-1.01326239,  1.12815215, -1.06573534, -0.86110232,  1.62274124],\n",
       "       [-0.99594166,  1.12815215,  0.65666521, -0.82293289, -0.55126616],\n",
       "       [-0.97862094, -0.88640526, -0.56336851, -0.82293289,  0.41927286],\n",
       "       [-0.96130021, -0.88640526,  0.7284319 , -0.82293289, -0.86183865],\n",
       "       [-0.94397949, -0.88640526, -1.06573534, -0.82293289,  0.5745591 ],\n",
       "       [-0.92665877, -0.88640526,  0.80019859, -0.78476346,  0.18634349],\n",
       "       [-0.90933804, -0.88640526, -0.85043527, -0.78476346, -0.12422899],\n",
       "       [-0.89201732, -0.88640526, -0.70690189, -0.78476346, -0.3183368 ],\n",
       "       [-0.87469659, -0.88640526, -0.56336851, -0.78476346, -0.3183368 ],\n",
       "       [-0.85737587, -0.88640526,  0.7284319 , -0.70842461,  0.06987881],\n",
       "       [-0.84005514,  1.12815215, -0.41983513, -0.70842461,  0.38045129],\n",
       "       [-0.82273442, -0.88640526, -0.56336851, -0.67025518,  0.14752193],\n",
       "       [-0.80541369,  1.12815215,  1.4460988 , -0.67025518,  0.38045129],\n",
       "       [-0.78809297, -0.88640526,  0.80019859, -0.67025518, -0.20187212],\n",
       "       [-0.77077224,  1.12815215,  0.58489852, -0.67025518, -0.35715836],\n",
       "       [-0.75345152, -0.88640526,  0.87196528, -0.63208575, -0.00776431],\n",
       "       [-0.73613079,  1.12815215,  2.16376569, -0.63208575, -0.16305055],\n",
       "       [-0.71881007, -0.88640526, -0.85043527, -0.55574689,  0.03105725],\n",
       "       [-0.70148935,  1.12815215,  1.01549866, -0.55574689, -0.16305055],\n",
       "       [-0.68416862,  1.12815215,  2.23553238, -0.55574689,  0.22516505],\n",
       "       [-0.6668479 ,  1.12815215, -1.42456879, -0.55574689,  0.18634349],\n",
       "       [-0.64952717, -0.88640526,  2.02023231, -0.51757746,  0.06987881],\n",
       "       [-0.63220645, -0.88640526,  1.08726535, -0.51757746,  0.34162973],\n",
       "       [-0.61488572,  1.12815215,  1.73316556, -0.47940803,  0.03105725],\n",
       "       [-0.597565  ,  1.12815215, -1.49633548, -0.47940803,  0.34162973],\n",
       "       [-0.58024427, -0.88640526,  0.29783176, -0.47940803, -0.00776431],\n",
       "       [-0.56292355, -0.88640526,  2.091999  , -0.47940803, -0.08540743],\n",
       "       [-0.54560282,  1.12815215, -1.42456879, -0.47940803,  0.34162973],\n",
       "       [-0.5282821 , -0.88640526, -0.49160182, -0.47940803, -0.12422899],\n",
       "       [-0.51096138,  1.12815215,  2.23553238, -0.4412386 ,  0.18634349],\n",
       "       [-0.49364065, -0.88640526,  0.58489852, -0.4412386 , -0.3183368 ],\n",
       "       [-0.47631993, -0.88640526,  1.51786549, -0.40306917, -0.04658587],\n",
       "       [-0.4589992 , -0.88640526,  1.51786549, -0.40306917,  0.22516505],\n",
       "       [-0.44167848,  1.12815215,  1.4460988 , -0.25039146, -0.12422899],\n",
       "       [-0.42435775,  1.12815215, -0.92220196, -0.25039146,  0.14752193],\n",
       "       [-0.40703703, -0.88640526,  0.44136514, -0.25039146,  0.10870037],\n",
       "       [-0.3897163 ,  1.12815215,  0.08253169, -0.25039146, -0.08540743],\n",
       "       [-0.37239558, -0.88640526, -1.13750203, -0.25039146,  0.06987881],\n",
       "       [-0.35507485, -0.88640526,  0.7284319 , -0.25039146, -0.3183368 ],\n",
       "       [-0.33775413,  1.12815215,  1.30256542, -0.25039146,  0.03105725],\n",
       "       [-0.3204334 ,  1.12815215, -0.06100169, -0.25039146,  0.18634349],\n",
       "       [-0.30311268,  1.12815215,  2.02023231, -0.25039146, -0.35715836],\n",
       "       [-0.28579196, -0.88640526,  0.51313183, -0.25039146, -0.24069368],\n",
       "       [-0.26847123, -0.88640526, -1.28103541, -0.25039146,  0.26398661],\n",
       "       [-0.25115051,  1.12815215,  0.65666521, -0.25039146, -0.16305055],\n",
       "       [-0.23382978, -0.88640526,  1.15903204, -0.13588317,  0.30280817],\n",
       "       [-0.21650906, -0.88640526, -1.20926872, -0.13588317,  0.18634349],\n",
       "       [-0.19918833, -0.88640526, -0.34806844, -0.09771374,  0.38045129],\n",
       "       [-0.18186761, -0.88640526,  0.80019859, -0.09771374, -0.16305055],\n",
       "       [-0.16454688, -0.88640526,  2.091999  , -0.05954431,  0.18634349],\n",
       "       [-0.14722616,  1.12815215, -1.49633548, -0.05954431, -0.35715836],\n",
       "       [-0.12990543,  1.12815215,  0.65666521, -0.02137488, -0.04658587],\n",
       "       [-0.11258471, -0.88640526,  0.08253169, -0.02137488, -0.39597992],\n",
       "       [-0.09526399, -0.88640526, -0.49160182, -0.02137488, -0.3183368 ],\n",
       "       [-0.07794326,  1.12815215, -1.06573534, -0.02137488,  0.06987881],\n",
       "       [-0.06062254, -0.88640526,  0.58489852, -0.02137488, -0.12422899],\n",
       "       [-0.04330181, -0.88640526, -0.85043527, -0.02137488, -0.00776431],\n",
       "       [-0.02598109,  1.12815215,  0.65666521,  0.01679455, -0.3183368 ],\n",
       "       [-0.00866036,  1.12815215, -1.3528021 ,  0.01679455, -0.04658587],\n",
       "       [ 0.00866036, -0.88640526, -1.13750203,  0.05496398, -0.35715836],\n",
       "       [ 0.02598109, -0.88640526,  0.7284319 ,  0.05496398, -0.08540743],\n",
       "       [ 0.04330181,  1.12815215,  2.02023231,  0.05496398,  0.34162973],\n",
       "       [ 0.06062254,  1.12815215, -0.92220196,  0.05496398,  0.18634349],\n",
       "       [ 0.07794326,  1.12815215,  0.7284319 ,  0.05496398,  0.22516505],\n",
       "       [ 0.09526399, -0.88640526, -1.28103541,  0.05496398, -0.3183368 ],\n",
       "       [ 0.11258471, -0.88640526,  1.94846562,  0.09313341, -0.00776431],\n",
       "       [ 0.12990543,  1.12815215,  1.08726535,  0.09313341, -0.16305055],\n",
       "       [ 0.14722616,  1.12815215,  2.091999  ,  0.09313341, -0.27951524],\n",
       "       [ 0.16454688,  1.12815215,  1.94846562,  0.09313341, -0.08540743],\n",
       "       [ 0.18186761,  1.12815215,  1.87669894,  0.09313341,  0.06987881],\n",
       "       [ 0.19918833, -0.88640526, -1.42456879,  0.09313341,  0.14752193],\n",
       "       [ 0.21650906, -0.88640526, -0.06100169,  0.13130284, -0.3183368 ],\n",
       "       [ 0.23382978,  1.12815215, -1.42456879,  0.13130284, -0.16305055],\n",
       "       [ 0.25115051, -0.88640526, -1.49633548,  0.16947227, -0.08540743],\n",
       "       [ 0.26847123, -0.88640526, -1.42456879,  0.16947227, -0.00776431],\n",
       "       [ 0.28579196, -0.88640526,  1.73316556,  0.16947227, -0.27951524],\n",
       "       [ 0.30311268, -0.88640526,  0.7284319 ,  0.16947227,  0.34162973],\n",
       "       [ 0.3204334 , -0.88640526,  0.87196528,  0.24581112, -0.27951524],\n",
       "       [ 0.33775413, -0.88640526,  0.80019859,  0.24581112,  0.26398661],\n",
       "       [ 0.35507485,  1.12815215, -0.85043527,  0.24581112,  0.22516505],\n",
       "       [ 0.37239558, -0.88640526, -0.06100169,  0.24581112, -0.39597992],\n",
       "       [ 0.3897163 , -0.88640526,  0.08253169,  0.32214998,  0.30280817],\n",
       "       [ 0.40703703,  1.12815215,  0.010765  ,  0.32214998,  1.58391968],\n",
       "       [ 0.42435775, -0.88640526, -1.13750203,  0.36031941, -0.82301709],\n",
       "       [ 0.44167848, -0.88640526, -0.56336851,  0.36031941,  1.04041783],\n",
       "       [ 0.4589992 ,  1.12815215,  0.29783176,  0.39848884, -0.59008772],\n",
       "       [ 0.47631993,  1.12815215,  0.08253169,  0.39848884,  1.73920592],\n",
       "       [ 0.49364065,  1.12815215,  1.4460988 ,  0.39848884, -1.52180518],\n",
       "       [ 0.51096138,  1.12815215, -0.06100169,  0.39848884,  0.96277471],\n",
       "       [ 0.5282821 ,  1.12815215,  0.58489852,  0.39848884, -1.5994483 ],\n",
       "       [ 0.54560282,  1.12815215,  0.010765  ,  0.39848884,  0.96277471],\n",
       "       [ 0.56292355, -0.88640526, -0.99396865,  0.43665827, -0.62890928],\n",
       "       [ 0.58024427, -0.88640526, -0.56336851,  0.43665827,  0.80748846],\n",
       "       [ 0.597565  ,  1.12815215, -1.3528021 ,  0.4748277 , -1.75473454],\n",
       "       [ 0.61488572, -0.88640526, -0.70690189,  0.4748277 ,  1.46745499],\n",
       "       [ 0.63220645, -0.88640526,  0.36959845,  0.4748277 , -1.67709142],\n",
       "       [ 0.64952717,  1.12815215, -0.49160182,  0.4748277 ,  0.88513158],\n",
       "       [ 0.6668479 ,  1.12815215, -1.42456879,  0.51299713, -1.56062674],\n",
       "       [ 0.68416862, -0.88640526, -0.27630176,  0.51299713,  0.84631002],\n",
       "       [ 0.70148935, -0.88640526,  1.30256542,  0.55116656, -1.75473454],\n",
       "       [ 0.71881007,  1.12815215, -0.49160182,  0.55116656,  1.6615628 ],\n",
       "       [ 0.73613079, -0.88640526, -0.77866858,  0.58933599, -0.39597992],\n",
       "       [ 0.75345152, -0.88640526, -0.49160182,  0.58933599,  1.42863343],\n",
       "       [ 0.77077224,  1.12815215, -0.99396865,  0.62750542, -1.48298362],\n",
       "       [ 0.78809297,  1.12815215, -0.77866858,  0.62750542,  1.81684904],\n",
       "       [ 0.80541369,  1.12815215,  0.65666521,  0.62750542, -0.55126616],\n",
       "       [ 0.82273442, -0.88640526, -0.49160182,  0.62750542,  0.92395314],\n",
       "       [ 0.84005514, -0.88640526, -0.34806844,  0.66567484, -1.09476801],\n",
       "       [ 0.85737587,  1.12815215, -0.34806844,  0.66567484,  1.54509812],\n",
       "       [ 0.87469659,  1.12815215,  0.29783176,  0.66567484, -1.28887582],\n",
       "       [ 0.89201732,  1.12815215,  0.010765  ,  0.66567484,  1.46745499],\n",
       "       [ 0.90933804, -0.88640526,  0.36959845,  0.66567484, -1.17241113],\n",
       "       [ 0.92665877, -0.88640526, -0.06100169,  0.66567484,  1.00159627],\n",
       "       [ 0.94397949, -0.88640526,  0.58489852,  0.66567484, -1.32769738],\n",
       "       [ 0.96130021, -0.88640526, -0.85043527,  0.66567484,  1.50627656],\n",
       "       [ 0.97862094,  1.12815215, -0.13276838,  0.66567484, -1.91002079],\n",
       "       [ 0.99594166, -0.88640526, -0.6351352 ,  0.66567484,  1.07923939],\n",
       "       [ 1.01326239,  1.12815215, -0.34806844,  0.66567484, -1.91002079],\n",
       "       [ 1.03058311, -0.88640526, -0.6351352 ,  0.66567484,  0.88513158],\n",
       "       [ 1.04790384, -0.88640526,  1.23079873,  0.70384427, -0.59008772],\n",
       "       [ 1.06522456, -0.88640526, -0.70690189,  0.70384427,  1.27334719],\n",
       "       [ 1.08254529,  1.12815215, -1.42456879,  0.78018313, -1.75473454],\n",
       "       [ 1.09986601, -0.88640526, -0.56336851,  0.78018313,  1.6615628 ],\n",
       "       [ 1.11718674,  1.12815215,  0.80019859,  0.93286085, -0.93948177],\n",
       "       [ 1.13450746, -0.88640526, -0.20453507,  0.93286085,  0.96277471],\n",
       "       [ 1.15182818,  1.12815215,  0.22606507,  0.97103028, -1.17241113],\n",
       "       [ 1.16914891, -0.88640526, -0.41983513,  0.97103028,  1.73920592],\n",
       "       [ 1.18646963, -0.88640526, -0.20453507,  1.00919971, -0.90066021],\n",
       "       [ 1.20379036,  1.12815215, -0.49160182,  1.00919971,  0.49691598],\n",
       "       [ 1.22111108,  1.12815215,  0.08253169,  1.00919971, -1.44416206],\n",
       "       [ 1.23843181,  1.12815215, -0.77866858,  1.00919971,  0.96277471],\n",
       "       [ 1.25575253,  1.12815215, -0.20453507,  1.00919971, -1.56062674],\n",
       "       [ 1.27307326,  1.12815215, -0.20453507,  1.00919971,  1.62274124],\n",
       "       [ 1.29039398, -0.88640526,  0.94373197,  1.04736914, -1.44416206],\n",
       "       [ 1.30771471, -0.88640526, -0.6351352 ,  1.04736914,  1.38981187],\n",
       "       [ 1.32503543,  1.12815215,  1.37433211,  1.04736914, -1.36651894],\n",
       "       [ 1.34235616,  1.12815215, -0.85043527,  1.04736914,  0.72984534],\n",
       "       [ 1.35967688,  1.12815215,  1.4460988 ,  1.23821628, -1.4053405 ],\n",
       "       [ 1.3769976 ,  1.12815215, -0.27630176,  1.23821628,  1.54509812],\n",
       "       [ 1.39431833, -0.88640526, -0.13276838,  1.390894  , -0.7065524 ],\n",
       "       [ 1.41163905, -0.88640526, -0.49160182,  1.390894  ,  1.38981187],\n",
       "       [ 1.42895978,  1.12815215,  0.51313183,  1.42906343, -1.36651894],\n",
       "       [ 1.4462805 , -0.88640526, -0.70690189,  1.42906343,  1.46745499],\n",
       "       [ 1.46360123, -0.88640526,  0.15429838,  1.46723286, -0.43480148],\n",
       "       [ 1.48092195,  1.12815215, -0.6351352 ,  1.46723286,  1.81684904],\n",
       "       [ 1.49824268, -0.88640526,  1.08726535,  1.54357172, -1.01712489],\n",
       "       [ 1.5155634 ,  1.12815215, -0.77866858,  1.54357172,  0.69102378],\n",
       "       [ 1.53288413, -0.88640526,  0.15429838,  1.61991057, -1.28887582],\n",
       "       [ 1.55020485, -0.88640526, -0.20453507,  1.61991057,  1.35099031],\n",
       "       [ 1.56752558, -0.88640526, -0.34806844,  1.61991057, -1.05594645],\n",
       "       [ 1.5848463 , -0.88640526, -0.49160182,  1.61991057,  0.72984534],\n",
       "       [ 1.60216702,  1.12815215, -0.41983513,  2.00160487, -1.63826986],\n",
       "       [ 1.61948775, -0.88640526, -0.06100169,  2.00160487,  1.58391968],\n",
       "       [ 1.63680847, -0.88640526,  0.58489852,  2.26879087, -1.32769738],\n",
       "       [ 1.6541292 , -0.88640526, -0.27630176,  2.26879087,  1.11806095],\n",
       "       [ 1.67144992, -0.88640526,  0.44136514,  2.49780745, -0.86183865],\n",
       "       [ 1.68877065,  1.12815215, -0.49160182,  2.49780745,  0.92395314],\n",
       "       [ 1.70609137,  1.12815215, -0.49160182,  2.91767117, -1.25005425],\n",
       "       [ 1.7234121 ,  1.12815215, -0.6351352 ,  2.91767117,  1.27334719]])"
      ]
     },
     "execution_count": 85,
     "metadata": {},
     "output_type": "execute_result"
    }
   ],
   "source": [
    "x_scaled"
   ]
  },
  {
   "cell_type": "code",
   "execution_count": 86,
   "id": "f981a786",
   "metadata": {
    "scrolled": true
   },
   "outputs": [
    {
     "data": {
      "text/plain": [
       "<seaborn.axisgrid.FacetGrid at 0x225a26003d0>"
      ]
     },
     "execution_count": 86,
     "metadata": {},
     "output_type": "execute_result"
    },
    {
     "data": {
      "image/png": "[encoded data removed]",
      "text/plain": [
       "<Figure size 360x360 with 1 Axes>"
      ]
     },
     "metadata": {
      "needs_background": "light"
     },
     "output_type": "display_data"
    }
   ],
   "source": [
    "sns.displot(x['Annual Income'],kind ='kde')"
   ]
  },
  {
   "cell_type": "code",
   "execution_count": 87,
   "id": "e11d5bb1",
   "metadata": {},
   "outputs": [
    {
     "data": {
      "text/plain": [
       "array([-0.43480148,  1.19570407, -1.71591298,  1.04041783, -0.39597992,\n",
       "        1.00159627, -1.71591298,  1.70038436, -1.83237767,  0.84631002,\n",
       "       -1.4053405 ,  1.89449216, -1.36651894,  1.04041783, -1.44416206,\n",
       "        1.11806095, -0.59008772,  0.61338066, -0.82301709,  1.8556706 ,\n",
       "       -0.59008772,  0.88513158, -1.75473454,  0.88513158, -1.4053405 ,\n",
       "        1.23452563, -0.7065524 ,  0.41927286, -0.74537397,  1.42863343,\n",
       "       -1.7935561 ,  0.88513158, -1.7935561 ,  1.62274124, -1.4053405 ,\n",
       "        1.19570407, -1.28887582,  0.88513158, -0.93948177,  0.96277471,\n",
       "       -0.59008772,  1.62274124, -0.55126616,  0.41927286, -0.86183865,\n",
       "        0.5745591 ,  0.18634349, -0.12422899, -0.3183368 , -0.3183368 ,\n",
       "        0.06987881,  0.38045129,  0.14752193,  0.38045129, -0.20187212,\n",
       "       -0.35715836, -0.00776431, -0.16305055,  0.03105725, -0.16305055,\n",
       "        0.22516505,  0.18634349,  0.06987881,  0.34162973,  0.03105725,\n",
       "        0.34162973, -0.00776431, -0.08540743,  0.34162973, -0.12422899,\n",
       "        0.18634349, -0.3183368 , -0.04658587,  0.22516505, -0.12422899,\n",
       "        0.14752193,  0.10870037, -0.08540743,  0.06987881, -0.3183368 ,\n",
       "        0.03105725,  0.18634349, -0.35715836, -0.24069368,  0.26398661,\n",
       "       -0.16305055,  0.30280817,  0.18634349,  0.38045129, -0.16305055,\n",
       "        0.18634349, -0.35715836, -0.04658587, -0.39597992, -0.3183368 ,\n",
       "        0.06987881, -0.12422899, -0.00776431, -0.3183368 , -0.04658587,\n",
       "       -0.35715836, -0.08540743,  0.34162973,  0.18634349,  0.22516505,\n",
       "       -0.3183368 , -0.00776431, -0.16305055, -0.27951524, -0.08540743,\n",
       "        0.06987881,  0.14752193, -0.3183368 , -0.16305055, -0.08540743,\n",
       "       -0.00776431, -0.27951524,  0.34162973, -0.27951524,  0.26398661,\n",
       "        0.22516505, -0.39597992,  0.30280817,  1.58391968, -0.82301709,\n",
       "        1.04041783, -0.59008772,  1.73920592, -1.52180518,  0.96277471,\n",
       "       -1.5994483 ,  0.96277471, -0.62890928,  0.80748846, -1.75473454,\n",
       "        1.46745499, -1.67709142,  0.88513158, -1.56062674,  0.84631002,\n",
       "       -1.75473454,  1.6615628 , -0.39597992,  1.42863343, -1.48298362,\n",
       "        1.81684904, -0.55126616,  0.92395314, -1.09476801,  1.54509812,\n",
       "       -1.28887582,  1.46745499, -1.17241113,  1.00159627, -1.32769738,\n",
       "        1.50627656, -1.91002079,  1.07923939, -1.91002079,  0.88513158,\n",
       "       -0.59008772,  1.27334719, -1.75473454,  1.6615628 , -0.93948177,\n",
       "        0.96277471, -1.17241113,  1.73920592, -0.90066021,  0.49691598,\n",
       "       -1.44416206,  0.96277471, -1.56062674,  1.62274124, -1.44416206,\n",
       "        1.38981187, -1.36651894,  0.72984534, -1.4053405 ,  1.54509812,\n",
       "       -0.7065524 ,  1.38981187, -1.36651894,  1.46745499, -0.43480148,\n",
       "        1.81684904, -1.01712489,  0.69102378, -1.28887582,  1.35099031,\n",
       "       -1.05594645,  0.72984534, -1.63826986,  1.58391968, -1.32769738,\n",
       "        1.11806095, -0.86183865,  0.92395314, -1.25005425,  1.27334719])"
      ]
     },
     "execution_count": 87,
     "metadata": {},
     "output_type": "execute_result"
    }
   ],
   "source": [
    "x_scaled[:,-1]"
   ]
  },
  {
   "cell_type": "code",
   "execution_count": 88,
   "id": "1e192196",
   "metadata": {},
   "outputs": [],
   "source": [
    "from sklearn.cluster import KMeans , DBSCAN ,AgglomerativeClustering"
   ]
  },
  {
   "cell_type": "code",
   "execution_count": 89,
   "id": "b98144c2",
   "metadata": {},
   "outputs": [],
   "source": [
    "kmean = KMeans()"
   ]
  },
  {
   "cell_type": "code",
   "execution_count": 90,
   "id": "37359e60",
   "metadata": {},
   "outputs": [],
   "source": [
    "import warnings\n",
    "warnings.filterwarnings('ignore')"
   ]
  },
  {
   "cell_type": "code",
   "execution_count": 91,
   "id": "0e99a469",
   "metadata": {},
   "outputs": [],
   "source": [
    "y = kmean.fit_predict(x_scaled)"
   ]
  },
  {
   "cell_type": "code",
   "execution_count": 92,
   "id": "e0f472e0",
   "metadata": {},
   "outputs": [
    {
     "data": {
      "text/plain": [
       "array([6, 6, 2, 2, 2, 2, 2, 2, 1, 2, 1, 2, 5, 2, 1, 6, 2, 6, 1, 2, 6, 6,\n",
       "       5, 6, 5, 6, 5, 6, 5, 2, 1, 2, 1, 6, 5, 2, 5, 2, 2, 2, 5, 6, 1, 2,\n",
       "       5, 2, 5, 2, 2, 2, 5, 6, 2, 1, 5, 1, 5, 1, 2, 1, 1, 6, 5, 5, 1, 6,\n",
       "       5, 5, 6, 2, 1, 5, 5, 5, 1, 6, 5, 1, 2, 5, 1, 6, 1, 5, 2, 1, 5, 2,\n",
       "       2, 5, 5, 6, 1, 5, 2, 6, 5, 2, 1, 6, 2, 5, 1, 6, 1, 2, 5, 1, 1, 1,\n",
       "       1, 2, 0, 6, 2, 2, 5, 5, 5, 5, 3, 0, 4, 3, 0, 4, 7, 3, 7, 3, 7, 3,\n",
       "       0, 4, 7, 4, 0, 3, 7, 4, 0, 3, 0, 4, 7, 3, 7, 4, 0, 3, 7, 3, 0, 4,\n",
       "       0, 4, 7, 4, 7, 4, 0, 4, 7, 4, 7, 4, 7, 4, 0, 3, 7, 3, 7, 3, 0, 4,\n",
       "       7, 3, 7, 3, 0, 4, 7, 4, 0, 3, 0, 3, 0, 4, 0, 4, 7, 4, 0, 4, 0, 3,\n",
       "       7, 3])"
      ]
     },
     "execution_count": 92,
     "metadata": {},
     "output_type": "execute_result"
    }
   ],
   "source": [
    "y"
   ]
  },
  {
   "cell_type": "code",
   "execution_count": 93,
   "id": "ecf9af94",
   "metadata": {},
   "outputs": [
    {
     "data": {
      "text/plain": [
       "((200, 5), (200,))"
      ]
     },
     "execution_count": 93,
     "metadata": {},
     "output_type": "execute_result"
    }
   ],
   "source": [
    "x_scaled.shape , y.shape"
   ]
  },
  {
   "cell_type": "code",
   "execution_count": 94,
   "id": "6782f587",
   "metadata": {},
   "outputs": [
    {
     "data": {
      "text/plain": [
       "254.77508710334513"
      ]
     },
     "execution_count": 94,
     "metadata": {},
     "output_type": "execute_result"
    }
   ],
   "source": [
    "kmean.inertia_"
   ]
  },
  {
   "cell_type": "code",
   "execution_count": 95,
   "id": "019b2caf",
   "metadata": {},
   "outputs": [
    {
     "data": {
      "text/plain": [
       "'temp_list = []\\nfor maxi range()\\nobj = KMeans(n_clusters=2)\\nobj.fit_predict()\\nobj.inertia_\\ntemp_list.append(inertia_)\\nreturn temp_list'"
      ]
     },
     "execution_count": 95,
     "metadata": {},
     "output_type": "execute_result"
    }
   ],
   "source": [
    "'''temp_list = []\n",
    "for maxi range()\n",
    "obj = KMeans(n_clusters=2)\n",
    "obj.fit_predict()\n",
    "obj.inertia_\n",
    "temp_list.append(inertia_)\n",
    "return temp_list''' "
   ]
  },
  {
   "cell_type": "code",
   "execution_count": 102,
   "id": "a0182dcd",
   "metadata": {},
   "outputs": [],
   "source": [
    "def wcss(algo,data,max_range):\n",
    "    wcss_temp = []\n",
    "    for i in range(2,max_range):\n",
    "        obj_kmeans= algo(n_clusters=i)\n",
    "        obj_kmeans.fit_predict(data)\n",
    "        wcss =obj_kmeans.inertia_\n",
    "        wcss_temp.append(wcss)\n",
    "    return wcss_temp"
   ]
  },
  {
   "cell_type": "code",
   "execution_count": 103,
   "id": "86e12d54",
   "metadata": {},
   "outputs": [],
   "source": [
    "wcss_temp = wcss(KMeans,x_scaled,41)"
   ]
  },
  {
   "cell_type": "code",
   "execution_count": 98,
   "id": "e83b2554",
   "metadata": {},
   "outputs": [],
   "source": [
    "from sklearn.metrics import silhouette_score"
   ]
  },
  {
   "cell_type": "code",
   "execution_count": 99,
   "id": "ebad3124",
   "metadata": {},
   "outputs": [
    {
     "data": {
      "text/plain": [
       "0.37138915629718766"
      ]
     },
     "execution_count": 99,
     "metadata": {},
     "output_type": "execute_result"
    }
   ],
   "source": [
    "silhouette_score(x_scaled,y)"
   ]
  },
  {
   "cell_type": "code",
   "execution_count": 104,
   "id": "9c43ffee",
   "metadata": {},
   "outputs": [
    {
     "data": {
      "text/plain": [
       "[715.2750473761118,\n",
       " 573.7345467939024,\n",
       " 458.2280052819713,\n",
       " 389.44018502615575,\n",
       " 335.31267018929947,\n",
       " 294.66756822189507,\n",
       " 254.77508710334513,\n",
       " 222.89553009211903,\n",
       " 190.37851212817625,\n",
       " 170.42665844265,\n",
       " 158.47091112389347,\n",
       " 141.8991457030519,\n",
       " 132.2136981110816,\n",
       " 126.36160497084407,\n",
       " 116.75201784272359,\n",
       " 112.65187838745317,\n",
       " 104.77636664837927,\n",
       " 99.15694807171131,\n",
       " 94.44409302157177,\n",
       " 89.37020711236153,\n",
       " 82.60143195502816,\n",
       " 81.0007386534095,\n",
       " 76.30042325825501,\n",
       " 69.32836156151333,\n",
       " 70.38660801265532,\n",
       " 67.32578687104082,\n",
       " 63.85155935634509,\n",
       " 61.72474269947777,\n",
       " 58.75075512323636,\n",
       " 57.936791946654964,\n",
       " 55.46118852485284,\n",
       " 53.91686914998159,\n",
       " 51.817500280649824,\n",
       " 49.08204843438125,\n",
       " 48.018292924497295,\n",
       " 46.90897325904666,\n",
       " 44.252274595009936,\n",
       " 44.569966509818755,\n",
       " 42.3940502619533]"
      ]
     },
     "execution_count": 104,
     "metadata": {},
     "output_type": "execute_result"
    }
   ],
   "source": [
    "wcss_temp"
   ]
  },
  {
   "cell_type": "code",
   "execution_count": 107,
   "id": "3f3c0382",
   "metadata": {},
   "outputs": [
    {
     "data": {
      "text/plain": [
       "Text(0, 0.5, 'wcss')"
      ]
     },
     "execution_count": 107,
     "metadata": {},
     "output_type": "execute_result"
    },
    {
     "data": {
      "image/png": "[encoded data removed]",
      "text/plain": [
       "<Figure size 432x288 with 1 Axes>"
      ]
     },
     "metadata": {
      "needs_background": "light"
     },
     "output_type": "display_data"
    }
   ],
   "source": [
    "plt.plot(wcss_temp)\n",
    "plt.title('elbow method')\n",
    "plt.xlabel('no of cluster')\n",
    "plt.ylabel('wcss')"
   ]
  }
 ],
 "metadata": {
  "kernelspec": {
   "display_name": "Python 3 (ipykernel)",
   "language": "python",
   "name": "python3"
  },
  "language_info": {
   "codemirror_mode": {
    "name": "ipython",
    "version": 3
   },
   "file_extension": ".py",
   "mimetype": "text/x-python",
   "name": "python",
   "nbconvert_exporter": "python",
   "pygments_lexer": "ipython3",
   "version": "3.9.12"
  }
 },
 "nbformat": 4,
 "nbformat_minor": 5
}
